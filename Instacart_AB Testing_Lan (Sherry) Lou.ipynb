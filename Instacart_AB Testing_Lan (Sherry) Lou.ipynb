{
 "cells": [
  {
   "cell_type": "markdown",
   "id": "e1d8eb78-f209-433d-84b6-4cd6287a5c20",
   "metadata": {},
   "source": [
    "# Question1 \n",
    "Based on this data, what can we conclude at this point from the A/B test (in which we tried initiating the background check earlier in the hiring process for the treatment shoppers)? And how confident should we be in this conclusion?"
   ]
  },
  {
   "cell_type": "code",
   "execution_count": 2,
   "id": "cb448ae6-f72e-4d9a-91d6-e0217e818c71",
   "metadata": {},
   "outputs": [],
   "source": [
    "# import package\n",
    "import pandas as pd"
   ]
  },
  {
   "cell_type": "code",
   "execution_count": 3,
   "id": "b2cf3b42-5b38-4522-a619-87a7dd7671d4",
   "metadata": {},
   "outputs": [
    {
     "data": {
      "text/html": [
       "<div>\n",
       "<style scoped>\n",
       "    .dataframe tbody tr th:only-of-type {\n",
       "        vertical-align: middle;\n",
       "    }\n",
       "\n",
       "    .dataframe tbody tr th {\n",
       "        vertical-align: top;\n",
       "    }\n",
       "\n",
       "    .dataframe thead th {\n",
       "        text-align: right;\n",
       "    }\n",
       "</style>\n",
       "<table border=\"1\" class=\"dataframe\">\n",
       "  <thead>\n",
       "    <tr style=\"text-align: right;\">\n",
       "      <th></th>\n",
       "      <th>applicant_id</th>\n",
       "      <th>channel</th>\n",
       "      <th>group</th>\n",
       "      <th>city</th>\n",
       "      <th>event</th>\n",
       "      <th>event_date</th>\n",
       "    </tr>\n",
       "  </thead>\n",
       "  <tbody>\n",
       "    <tr>\n",
       "      <th>0</th>\n",
       "      <td>10001</td>\n",
       "      <td>web-search-engine</td>\n",
       "      <td>control</td>\n",
       "      <td>Asgard</td>\n",
       "      <td>application_date</td>\n",
       "      <td>2018-10-01</td>\n",
       "    </tr>\n",
       "    <tr>\n",
       "      <th>1</th>\n",
       "      <td>10002</td>\n",
       "      <td>social-media</td>\n",
       "      <td>control</td>\n",
       "      <td>Midgard</td>\n",
       "      <td>application_date</td>\n",
       "      <td>2018-10-01</td>\n",
       "    </tr>\n",
       "    <tr>\n",
       "      <th>2</th>\n",
       "      <td>10003</td>\n",
       "      <td>web-search-engine</td>\n",
       "      <td>treatment</td>\n",
       "      <td>Midgard</td>\n",
       "      <td>application_date</td>\n",
       "      <td>2018-10-01</td>\n",
       "    </tr>\n",
       "    <tr>\n",
       "      <th>3</th>\n",
       "      <td>10004</td>\n",
       "      <td>social-media</td>\n",
       "      <td>treatment</td>\n",
       "      <td>Asgard</td>\n",
       "      <td>application_date</td>\n",
       "      <td>2018-10-01</td>\n",
       "    </tr>\n",
       "    <tr>\n",
       "      <th>4</th>\n",
       "      <td>10005</td>\n",
       "      <td>social-media</td>\n",
       "      <td>treatment</td>\n",
       "      <td>Midgard</td>\n",
       "      <td>application_date</td>\n",
       "      <td>2018-10-01</td>\n",
       "    </tr>\n",
       "  </tbody>\n",
       "</table>\n",
       "</div>"
      ],
      "text/plain": [
       "   applicant_id            channel      group     city             event  \\\n",
       "0         10001  web-search-engine    control   Asgard  application_date   \n",
       "1         10002       social-media    control  Midgard  application_date   \n",
       "2         10003  web-search-engine  treatment  Midgard  application_date   \n",
       "3         10004       social-media  treatment   Asgard  application_date   \n",
       "4         10005       social-media  treatment  Midgard  application_date   \n",
       "\n",
       "   event_date  \n",
       "0  2018-10-01  \n",
       "1  2018-10-01  \n",
       "2  2018-10-01  \n",
       "3  2018-10-01  \n",
       "4  2018-10-01  "
      ]
     },
     "execution_count": 3,
     "metadata": {},
     "output_type": "execute_result"
    }
   ],
   "source": [
    "# read file\n",
    "df = pd.read_csv('application.csv')\n",
    "\n",
    "# check dataset\n",
    "df.head()"
   ]
  },
  {
   "cell_type": "code",
   "execution_count": 4,
   "id": "ce9877fe-ba2a-43ff-94e5-e6fe63a0d972",
   "metadata": {},
   "outputs": [
    {
     "name": "stdout",
     "output_type": "stream",
     "text": [
      "applicant_id     int64\n",
      "channel         object\n",
      "group           object\n",
      "city            object\n",
      "event           object\n",
      "event_date      object\n",
      "dtype: object\n"
     ]
    }
   ],
   "source": [
    "# check data type\n",
    "print(df.dtypes)"
   ]
  },
  {
   "cell_type": "code",
   "execution_count": 5,
   "id": "6c6b2783-3142-475e-9042-c0ab15c2fa3c",
   "metadata": {},
   "outputs": [],
   "source": [
    "# change data type\n",
    "df['applicant_id'] = df['applicant_id'].astype('object')\n",
    "df['event_date'] = df['event_date'].astype('datetime64')"
   ]
  },
  {
   "cell_type": "code",
   "execution_count": 6,
   "id": "399bbe44-bdb4-4f72-817c-1a1eb59d95a5",
   "metadata": {},
   "outputs": [
    {
     "data": {
      "text/html": [
       "<div>\n",
       "<style scoped>\n",
       "    .dataframe tbody tr th:only-of-type {\n",
       "        vertical-align: middle;\n",
       "    }\n",
       "\n",
       "    .dataframe tbody tr th {\n",
       "        vertical-align: top;\n",
       "    }\n",
       "\n",
       "    .dataframe thead th {\n",
       "        text-align: right;\n",
       "    }\n",
       "</style>\n",
       "<table border=\"1\" class=\"dataframe\">\n",
       "  <thead>\n",
       "    <tr style=\"text-align: right;\">\n",
       "      <th></th>\n",
       "      <th>applicant_id</th>\n",
       "      <th>channel</th>\n",
       "      <th>group</th>\n",
       "      <th>city</th>\n",
       "      <th>event</th>\n",
       "      <th>event_date</th>\n",
       "    </tr>\n",
       "  </thead>\n",
       "  <tbody>\n",
       "    <tr>\n",
       "      <th>0</th>\n",
       "      <td>10001</td>\n",
       "      <td>web-search-engine</td>\n",
       "      <td>control</td>\n",
       "      <td>Asgard</td>\n",
       "      <td>application_date</td>\n",
       "      <td>2018-10-01</td>\n",
       "    </tr>\n",
       "    <tr>\n",
       "      <th>1</th>\n",
       "      <td>10002</td>\n",
       "      <td>social-media</td>\n",
       "      <td>control</td>\n",
       "      <td>Midgard</td>\n",
       "      <td>application_date</td>\n",
       "      <td>2018-10-01</td>\n",
       "    </tr>\n",
       "    <tr>\n",
       "      <th>2</th>\n",
       "      <td>10003</td>\n",
       "      <td>web-search-engine</td>\n",
       "      <td>treatment</td>\n",
       "      <td>Midgard</td>\n",
       "      <td>application_date</td>\n",
       "      <td>2018-10-01</td>\n",
       "    </tr>\n",
       "    <tr>\n",
       "      <th>3</th>\n",
       "      <td>10004</td>\n",
       "      <td>social-media</td>\n",
       "      <td>treatment</td>\n",
       "      <td>Asgard</td>\n",
       "      <td>application_date</td>\n",
       "      <td>2018-10-01</td>\n",
       "    </tr>\n",
       "    <tr>\n",
       "      <th>4</th>\n",
       "      <td>10005</td>\n",
       "      <td>social-media</td>\n",
       "      <td>treatment</td>\n",
       "      <td>Midgard</td>\n",
       "      <td>application_date</td>\n",
       "      <td>2018-10-01</td>\n",
       "    </tr>\n",
       "  </tbody>\n",
       "</table>\n",
       "</div>"
      ],
      "text/plain": [
       "  applicant_id            channel      group     city             event  \\\n",
       "0        10001  web-search-engine    control   Asgard  application_date   \n",
       "1        10002       social-media    control  Midgard  application_date   \n",
       "2        10003  web-search-engine  treatment  Midgard  application_date   \n",
       "3        10004       social-media  treatment   Asgard  application_date   \n",
       "4        10005       social-media  treatment  Midgard  application_date   \n",
       "\n",
       "  event_date  \n",
       "0 2018-10-01  \n",
       "1 2018-10-01  \n",
       "2 2018-10-01  \n",
       "3 2018-10-01  \n",
       "4 2018-10-01  "
      ]
     },
     "execution_count": 6,
     "metadata": {},
     "output_type": "execute_result"
    }
   ],
   "source": [
    "df.head()"
   ]
  },
  {
   "cell_type": "code",
   "execution_count": 7,
   "id": "f6cc3749-544c-487c-ae11-e97db20ce087",
   "metadata": {},
   "outputs": [],
   "source": [
    "# # explore dataset\n",
    "# df.describe(include='all')"
   ]
  },
  {
   "cell_type": "code",
   "execution_count": 8,
   "id": "28d633ad-ce7d-4f24-9c3e-ae5af74914b0",
   "metadata": {},
   "outputs": [
    {
     "data": {
      "text/html": [
       "<div>\n",
       "<style scoped>\n",
       "    .dataframe tbody tr th:only-of-type {\n",
       "        vertical-align: middle;\n",
       "    }\n",
       "\n",
       "    .dataframe tbody tr th {\n",
       "        vertical-align: top;\n",
       "    }\n",
       "\n",
       "    .dataframe thead th {\n",
       "        text-align: right;\n",
       "    }\n",
       "</style>\n",
       "<table border=\"1\" class=\"dataframe\">\n",
       "  <thead>\n",
       "    <tr style=\"text-align: right;\">\n",
       "      <th></th>\n",
       "      <th>applicant_id</th>\n",
       "    </tr>\n",
       "    <tr>\n",
       "      <th>group</th>\n",
       "      <th></th>\n",
       "    </tr>\n",
       "  </thead>\n",
       "  <tbody>\n",
       "    <tr>\n",
       "      <th>control</th>\n",
       "      <td>14501</td>\n",
       "    </tr>\n",
       "    <tr>\n",
       "      <th>treatment</th>\n",
       "      <td>7197</td>\n",
       "    </tr>\n",
       "  </tbody>\n",
       "</table>\n",
       "</div>"
      ],
      "text/plain": [
       "           applicant_id\n",
       "group                  \n",
       "control           14501\n",
       "treatment          7197"
      ]
     },
     "execution_count": 8,
     "metadata": {},
     "output_type": "execute_result"
    }
   ],
   "source": [
    "# check unique sample size\n",
    "df.groupby('group').agg({'applicant_id': 'nunique'})"
   ]
  },
  {
   "cell_type": "code",
   "execution_count": 9,
   "id": "b693cb44-2943-4b74-8041-cc2c20dd5a6b",
   "metadata": {},
   "outputs": [
    {
     "data": {
      "text/html": [
       "<div>\n",
       "<style scoped>\n",
       "    .dataframe tbody tr th:only-of-type {\n",
       "        vertical-align: middle;\n",
       "    }\n",
       "\n",
       "    .dataframe tbody tr th {\n",
       "        vertical-align: top;\n",
       "    }\n",
       "\n",
       "    .dataframe thead th {\n",
       "        text-align: right;\n",
       "    }\n",
       "</style>\n",
       "<table border=\"1\" class=\"dataframe\">\n",
       "  <thead>\n",
       "    <tr style=\"text-align: right;\">\n",
       "      <th></th>\n",
       "      <th>applicant_id</th>\n",
       "    </tr>\n",
       "    <tr>\n",
       "      <th>group</th>\n",
       "      <th></th>\n",
       "    </tr>\n",
       "  </thead>\n",
       "  <tbody>\n",
       "    <tr>\n",
       "      <th>control</th>\n",
       "      <td>68750</td>\n",
       "    </tr>\n",
       "    <tr>\n",
       "      <th>treatment</th>\n",
       "      <td>39578</td>\n",
       "    </tr>\n",
       "  </tbody>\n",
       "</table>\n",
       "</div>"
      ],
      "text/plain": [
       "           applicant_id\n",
       "group                  \n",
       "control           68750\n",
       "treatment         39578"
      ]
     },
     "execution_count": 9,
     "metadata": {},
     "output_type": "execute_result"
    }
   ],
   "source": [
    "# check event size\n",
    "df.groupby('group').agg({'applicant_id': 'count'})"
   ]
  },
  {
   "cell_type": "code",
   "execution_count": 10,
   "id": "517d6998-af85-4427-8465-7556c60c55ae",
   "metadata": {},
   "outputs": [
    {
     "data": {
      "text/plain": [
       "group    event                          \n",
       "control  application_date                   14501\n",
       "         card_mailed_date                   14266\n",
       "         background_check_initiated_date    10836\n",
       "         card_activation_date               10836\n",
       "         background_check_completed_date     9456\n",
       "         orientation_completed_date          5982\n",
       "         first_batch_completed_date          2873\n",
       "Name: applicant_id, dtype: int64"
      ]
     },
     "execution_count": 10,
     "metadata": {},
     "output_type": "execute_result"
    }
   ],
   "source": [
    "# check control group conversion funnel and its sequence by group\n",
    "df[df['group']=='control'].groupby(['group','event']).applicant_id.nunique().sort_values(ascending=False)"
   ]
  },
  {
   "cell_type": "code",
   "execution_count": 11,
   "id": "70a3e6fe-bb38-44c2-bd9b-ad35f5383875",
   "metadata": {},
   "outputs": [
    {
     "data": {
      "text/plain": [
       "group      event                          \n",
       "treatment  application_date                   7197\n",
       "           background_check_initiated_date    7197\n",
       "           card_mailed_date                   7071\n",
       "           background_check_completed_date    6384\n",
       "           card_activation_date               5889\n",
       "           orientation_completed_date         3369\n",
       "           first_batch_completed_date         2471\n",
       "Name: applicant_id, dtype: int64"
      ]
     },
     "execution_count": 11,
     "metadata": {},
     "output_type": "execute_result"
    }
   ],
   "source": [
    "# check treatment group conversion funnel and its sequence by group\n",
    "df[df['group']=='treatment'].groupby(['group','event']).applicant_id.nunique().sort_values(ascending=False)"
   ]
  },
  {
   "cell_type": "code",
   "execution_count": 12,
   "id": "a27edebe-a67d-49d7-9b17-5d0e1bc3db5c",
   "metadata": {},
   "outputs": [
    {
     "data": {
      "text/html": [
       "<div>\n",
       "<style scoped>\n",
       "    .dataframe tbody tr th:only-of-type {\n",
       "        vertical-align: middle;\n",
       "    }\n",
       "\n",
       "    .dataframe tbody tr th {\n",
       "        vertical-align: top;\n",
       "    }\n",
       "\n",
       "    .dataframe thead th {\n",
       "        text-align: right;\n",
       "    }\n",
       "</style>\n",
       "<table border=\"1\" class=\"dataframe\">\n",
       "  <thead>\n",
       "    <tr style=\"text-align: right;\">\n",
       "      <th></th>\n",
       "      <th>group</th>\n",
       "      <th>event</th>\n",
       "      <th>applicant_id_x</th>\n",
       "      <th>applicant_id_y</th>\n",
       "      <th>rate</th>\n",
       "    </tr>\n",
       "  </thead>\n",
       "  <tbody>\n",
       "    <tr>\n",
       "      <th>0</th>\n",
       "      <td>treatment</td>\n",
       "      <td>application_date</td>\n",
       "      <td>7197</td>\n",
       "      <td>7197</td>\n",
       "      <td>1.000000</td>\n",
       "    </tr>\n",
       "    <tr>\n",
       "      <th>1</th>\n",
       "      <td>treatment</td>\n",
       "      <td>background_check_initiated_date</td>\n",
       "      <td>7197</td>\n",
       "      <td>7197</td>\n",
       "      <td>1.000000</td>\n",
       "    </tr>\n",
       "    <tr>\n",
       "      <th>2</th>\n",
       "      <td>treatment</td>\n",
       "      <td>card_mailed_date</td>\n",
       "      <td>7071</td>\n",
       "      <td>7197</td>\n",
       "      <td>0.982493</td>\n",
       "    </tr>\n",
       "    <tr>\n",
       "      <th>3</th>\n",
       "      <td>treatment</td>\n",
       "      <td>background_check_completed_date</td>\n",
       "      <td>6384</td>\n",
       "      <td>7197</td>\n",
       "      <td>0.887036</td>\n",
       "    </tr>\n",
       "    <tr>\n",
       "      <th>4</th>\n",
       "      <td>treatment</td>\n",
       "      <td>card_activation_date</td>\n",
       "      <td>5889</td>\n",
       "      <td>7197</td>\n",
       "      <td>0.818258</td>\n",
       "    </tr>\n",
       "    <tr>\n",
       "      <th>5</th>\n",
       "      <td>treatment</td>\n",
       "      <td>orientation_completed_date</td>\n",
       "      <td>3369</td>\n",
       "      <td>7197</td>\n",
       "      <td>0.468112</td>\n",
       "    </tr>\n",
       "    <tr>\n",
       "      <th>6</th>\n",
       "      <td>treatment</td>\n",
       "      <td>first_batch_completed_date</td>\n",
       "      <td>2471</td>\n",
       "      <td>7197</td>\n",
       "      <td>0.343338</td>\n",
       "    </tr>\n",
       "    <tr>\n",
       "      <th>7</th>\n",
       "      <td>control</td>\n",
       "      <td>application_date</td>\n",
       "      <td>14501</td>\n",
       "      <td>14501</td>\n",
       "      <td>1.000000</td>\n",
       "    </tr>\n",
       "    <tr>\n",
       "      <th>8</th>\n",
       "      <td>control</td>\n",
       "      <td>card_mailed_date</td>\n",
       "      <td>14266</td>\n",
       "      <td>14501</td>\n",
       "      <td>0.983794</td>\n",
       "    </tr>\n",
       "    <tr>\n",
       "      <th>9</th>\n",
       "      <td>control</td>\n",
       "      <td>background_check_initiated_date</td>\n",
       "      <td>10836</td>\n",
       "      <td>14501</td>\n",
       "      <td>0.747259</td>\n",
       "    </tr>\n",
       "    <tr>\n",
       "      <th>10</th>\n",
       "      <td>control</td>\n",
       "      <td>card_activation_date</td>\n",
       "      <td>10836</td>\n",
       "      <td>14501</td>\n",
       "      <td>0.747259</td>\n",
       "    </tr>\n",
       "    <tr>\n",
       "      <th>11</th>\n",
       "      <td>control</td>\n",
       "      <td>background_check_completed_date</td>\n",
       "      <td>9456</td>\n",
       "      <td>14501</td>\n",
       "      <td>0.652093</td>\n",
       "    </tr>\n",
       "    <tr>\n",
       "      <th>12</th>\n",
       "      <td>control</td>\n",
       "      <td>orientation_completed_date</td>\n",
       "      <td>5982</td>\n",
       "      <td>14501</td>\n",
       "      <td>0.412523</td>\n",
       "    </tr>\n",
       "    <tr>\n",
       "      <th>13</th>\n",
       "      <td>control</td>\n",
       "      <td>first_batch_completed_date</td>\n",
       "      <td>2873</td>\n",
       "      <td>14501</td>\n",
       "      <td>0.198124</td>\n",
       "    </tr>\n",
       "  </tbody>\n",
       "</table>\n",
       "</div>"
      ],
      "text/plain": [
       "        group                            event  applicant_id_x  \\\n",
       "0   treatment                 application_date            7197   \n",
       "1   treatment  background_check_initiated_date            7197   \n",
       "2   treatment                 card_mailed_date            7071   \n",
       "3   treatment  background_check_completed_date            6384   \n",
       "4   treatment             card_activation_date            5889   \n",
       "5   treatment       orientation_completed_date            3369   \n",
       "6   treatment       first_batch_completed_date            2471   \n",
       "7     control                 application_date           14501   \n",
       "8     control                 card_mailed_date           14266   \n",
       "9     control  background_check_initiated_date           10836   \n",
       "10    control             card_activation_date           10836   \n",
       "11    control  background_check_completed_date            9456   \n",
       "12    control       orientation_completed_date            5982   \n",
       "13    control       first_batch_completed_date            2873   \n",
       "\n",
       "    applicant_id_y      rate  \n",
       "0             7197  1.000000  \n",
       "1             7197  1.000000  \n",
       "2             7197  0.982493  \n",
       "3             7197  0.887036  \n",
       "4             7197  0.818258  \n",
       "5             7197  0.468112  \n",
       "6             7197  0.343338  \n",
       "7            14501  1.000000  \n",
       "8            14501  0.983794  \n",
       "9            14501  0.747259  \n",
       "10           14501  0.747259  \n",
       "11           14501  0.652093  \n",
       "12           14501  0.412523  \n",
       "13           14501  0.198124  "
      ]
     },
     "execution_count": 12,
     "metadata": {},
     "output_type": "execute_result"
    }
   ],
   "source": [
    "# calculating conversion rate\n",
    "# nominator\n",
    "cvr_nom = pd.DataFrame(df.groupby(['group','event']).applicant_id.nunique().sort_values(ascending=False))\n",
    "cvr_nom = cvr_nom.sort_values(['group','applicant_id'],ascending=False).reset_index()\n",
    "\n",
    "# denominator - number of applicants who enter the process in each of control and treatment group\n",
    "cvr_denom = pd.DataFrame(cvr_nom.groupby('group').applicant_id.max()).reset_index()\n",
    "\n",
    "# rate\n",
    "cvr = cvr_nom.merge(cvr_denom, left_on='group', right_on='group').reset_index(drop=True)\n",
    "cvr['rate'] = cvr['applicant_id_x']/cvr['applicant_id_y']\n",
    "cvr"
   ]
  },
  {
   "cell_type": "code",
   "execution_count": 13,
   "id": "782660bb-13cb-4b38-9cb9-2d14331c3de3",
   "metadata": {},
   "outputs": [
    {
     "name": "stdout",
     "output_type": "stream",
     "text": [
      "2018-10-01 00:00:00\n",
      "2018-11-11 00:00:00\n"
     ]
    },
    {
     "data": {
      "text/plain": [
       "Timedelta('41 days 00:00:00')"
      ]
     },
     "execution_count": 13,
     "metadata": {},
     "output_type": "execute_result"
    }
   ],
   "source": [
    "# check experiment duration\n",
    "print(df['event_date'].min())\n",
    "print(df['event_date'].max())\n",
    "df['event_date'].max() - df['event_date'].min()"
   ]
  },
  {
   "cell_type": "code",
   "execution_count": 14,
   "id": "d9db604e-5b4c-4f85-8414-15d91e83d5e4",
   "metadata": {},
   "outputs": [
    {
     "data": {
      "text/html": [
       "<div>\n",
       "<style scoped>\n",
       "    .dataframe tbody tr th:only-of-type {\n",
       "        vertical-align: middle;\n",
       "    }\n",
       "\n",
       "    .dataframe tbody tr th {\n",
       "        vertical-align: top;\n",
       "    }\n",
       "\n",
       "    .dataframe thead th {\n",
       "        text-align: right;\n",
       "    }\n",
       "</style>\n",
       "<table border=\"1\" class=\"dataframe\">\n",
       "  <thead>\n",
       "    <tr style=\"text-align: right;\">\n",
       "      <th>event</th>\n",
       "      <th>group</th>\n",
       "      <th>applicant_id</th>\n",
       "      <th>application_date</th>\n",
       "      <th>background_check_completed_date</th>\n",
       "      <th>background_check_initiated_date</th>\n",
       "      <th>card_activation_date</th>\n",
       "      <th>card_mailed_date</th>\n",
       "      <th>first_batch_completed_date</th>\n",
       "      <th>orientation_completed_date</th>\n",
       "    </tr>\n",
       "  </thead>\n",
       "  <tbody>\n",
       "    <tr>\n",
       "      <th>0</th>\n",
       "      <td>control</td>\n",
       "      <td>10001</td>\n",
       "      <td>2018-10-01</td>\n",
       "      <td>NaT</td>\n",
       "      <td>NaT</td>\n",
       "      <td>NaT</td>\n",
       "      <td>2018-10-01</td>\n",
       "      <td>NaT</td>\n",
       "      <td>2018-10-03</td>\n",
       "    </tr>\n",
       "    <tr>\n",
       "      <th>1</th>\n",
       "      <td>control</td>\n",
       "      <td>10002</td>\n",
       "      <td>2018-10-01</td>\n",
       "      <td>2018-10-17</td>\n",
       "      <td>2018-10-12</td>\n",
       "      <td>2018-10-12</td>\n",
       "      <td>2018-10-01</td>\n",
       "      <td>2018-10-20</td>\n",
       "      <td>NaT</td>\n",
       "    </tr>\n",
       "    <tr>\n",
       "      <th>2</th>\n",
       "      <td>control</td>\n",
       "      <td>10006</td>\n",
       "      <td>2018-10-01</td>\n",
       "      <td>NaT</td>\n",
       "      <td>NaT</td>\n",
       "      <td>NaT</td>\n",
       "      <td>2018-10-01</td>\n",
       "      <td>NaT</td>\n",
       "      <td>NaT</td>\n",
       "    </tr>\n",
       "    <tr>\n",
       "      <th>3</th>\n",
       "      <td>control</td>\n",
       "      <td>10007</td>\n",
       "      <td>2018-10-01</td>\n",
       "      <td>2018-10-11</td>\n",
       "      <td>2018-10-07</td>\n",
       "      <td>2018-10-07</td>\n",
       "      <td>2018-10-02</td>\n",
       "      <td>2018-10-14</td>\n",
       "      <td>NaT</td>\n",
       "    </tr>\n",
       "    <tr>\n",
       "      <th>4</th>\n",
       "      <td>control</td>\n",
       "      <td>10008</td>\n",
       "      <td>2018-10-01</td>\n",
       "      <td>NaT</td>\n",
       "      <td>NaT</td>\n",
       "      <td>NaT</td>\n",
       "      <td>2018-10-02</td>\n",
       "      <td>NaT</td>\n",
       "      <td>NaT</td>\n",
       "    </tr>\n",
       "    <tr>\n",
       "      <th>...</th>\n",
       "      <td>...</td>\n",
       "      <td>...</td>\n",
       "      <td>...</td>\n",
       "      <td>...</td>\n",
       "      <td>...</td>\n",
       "      <td>...</td>\n",
       "      <td>...</td>\n",
       "      <td>...</td>\n",
       "      <td>...</td>\n",
       "    </tr>\n",
       "    <tr>\n",
       "      <th>21693</th>\n",
       "      <td>treatment</td>\n",
       "      <td>31684</td>\n",
       "      <td>2018-11-11</td>\n",
       "      <td>NaT</td>\n",
       "      <td>2018-11-11</td>\n",
       "      <td>NaT</td>\n",
       "      <td>2018-11-11</td>\n",
       "      <td>NaT</td>\n",
       "      <td>NaT</td>\n",
       "    </tr>\n",
       "    <tr>\n",
       "      <th>21694</th>\n",
       "      <td>treatment</td>\n",
       "      <td>31686</td>\n",
       "      <td>2018-11-11</td>\n",
       "      <td>NaT</td>\n",
       "      <td>2018-11-11</td>\n",
       "      <td>NaT</td>\n",
       "      <td>2018-11-11</td>\n",
       "      <td>NaT</td>\n",
       "      <td>NaT</td>\n",
       "    </tr>\n",
       "    <tr>\n",
       "      <th>21695</th>\n",
       "      <td>treatment</td>\n",
       "      <td>31687</td>\n",
       "      <td>2018-11-11</td>\n",
       "      <td>NaT</td>\n",
       "      <td>2018-11-11</td>\n",
       "      <td>NaT</td>\n",
       "      <td>2018-11-11</td>\n",
       "      <td>NaT</td>\n",
       "      <td>NaT</td>\n",
       "    </tr>\n",
       "    <tr>\n",
       "      <th>21696</th>\n",
       "      <td>treatment</td>\n",
       "      <td>31689</td>\n",
       "      <td>2018-11-11</td>\n",
       "      <td>NaT</td>\n",
       "      <td>2018-11-11</td>\n",
       "      <td>NaT</td>\n",
       "      <td>2018-11-11</td>\n",
       "      <td>NaT</td>\n",
       "      <td>NaT</td>\n",
       "    </tr>\n",
       "    <tr>\n",
       "      <th>21697</th>\n",
       "      <td>treatment</td>\n",
       "      <td>31691</td>\n",
       "      <td>2018-11-11</td>\n",
       "      <td>NaT</td>\n",
       "      <td>2018-11-11</td>\n",
       "      <td>NaT</td>\n",
       "      <td>NaT</td>\n",
       "      <td>NaT</td>\n",
       "      <td>NaT</td>\n",
       "    </tr>\n",
       "  </tbody>\n",
       "</table>\n",
       "<p>21698 rows × 9 columns</p>\n",
       "</div>"
      ],
      "text/plain": [
       "event      group  applicant_id application_date  \\\n",
       "0        control         10001       2018-10-01   \n",
       "1        control         10002       2018-10-01   \n",
       "2        control         10006       2018-10-01   \n",
       "3        control         10007       2018-10-01   \n",
       "4        control         10008       2018-10-01   \n",
       "...          ...           ...              ...   \n",
       "21693  treatment         31684       2018-11-11   \n",
       "21694  treatment         31686       2018-11-11   \n",
       "21695  treatment         31687       2018-11-11   \n",
       "21696  treatment         31689       2018-11-11   \n",
       "21697  treatment         31691       2018-11-11   \n",
       "\n",
       "event background_check_completed_date background_check_initiated_date  \\\n",
       "0                                 NaT                             NaT   \n",
       "1                          2018-10-17                      2018-10-12   \n",
       "2                                 NaT                             NaT   \n",
       "3                          2018-10-11                      2018-10-07   \n",
       "4                                 NaT                             NaT   \n",
       "...                               ...                             ...   \n",
       "21693                             NaT                      2018-11-11   \n",
       "21694                             NaT                      2018-11-11   \n",
       "21695                             NaT                      2018-11-11   \n",
       "21696                             NaT                      2018-11-11   \n",
       "21697                             NaT                      2018-11-11   \n",
       "\n",
       "event card_activation_date card_mailed_date first_batch_completed_date  \\\n",
       "0                      NaT       2018-10-01                        NaT   \n",
       "1               2018-10-12       2018-10-01                 2018-10-20   \n",
       "2                      NaT       2018-10-01                        NaT   \n",
       "3               2018-10-07       2018-10-02                 2018-10-14   \n",
       "4                      NaT       2018-10-02                        NaT   \n",
       "...                    ...              ...                        ...   \n",
       "21693                  NaT       2018-11-11                        NaT   \n",
       "21694                  NaT       2018-11-11                        NaT   \n",
       "21695                  NaT       2018-11-11                        NaT   \n",
       "21696                  NaT       2018-11-11                        NaT   \n",
       "21697                  NaT              NaT                        NaT   \n",
       "\n",
       "event orientation_completed_date  \n",
       "0                     2018-10-03  \n",
       "1                            NaT  \n",
       "2                            NaT  \n",
       "3                            NaT  \n",
       "4                            NaT  \n",
       "...                          ...  \n",
       "21693                        NaT  \n",
       "21694                        NaT  \n",
       "21695                        NaT  \n",
       "21696                        NaT  \n",
       "21697                        NaT  \n",
       "\n",
       "[21698 rows x 9 columns]"
      ]
     },
     "execution_count": 14,
     "metadata": {},
     "output_type": "execute_result"
    }
   ],
   "source": [
    "# transpose the dataset by applicant\n",
    "df_transpose = df.pivot_table(index=['group','applicant_id'], columns='event', values='event_date', aggfunc='max')\n",
    "df_transpose.reset_index()"
   ]
  },
  {
   "cell_type": "code",
   "execution_count": 15,
   "id": "8a707b1a-117b-4765-ad35-af4373cbb0a5",
   "metadata": {},
   "outputs": [
    {
     "name": "stderr",
     "output_type": "stream",
     "text": [
      "/Users/sherry/opt/anaconda3/lib/python3.8/site-packages/seaborn/distributions.py:2557: FutureWarning: `distplot` is a deprecated function and will be removed in a future version. Please adapt your code to use either `displot` (a figure-level function with similar flexibility) or `histplot` (an axes-level function for histograms).\n",
      "  warnings.warn(msg, FutureWarning)\n"
     ]
    },
    {
     "data": {
      "text/plain": [
       "<AxesSubplot:ylabel='Density'>"
      ]
     },
     "execution_count": 15,
     "metadata": {},
     "output_type": "execute_result"
    },
    {
     "data": {
      "image/png": "[encoded data removed]",
      "text/plain": [
       "<Figure size 432x288 with 1 Axes>"
      ]
     },
     "metadata": {
      "needs_background": "light"
     },
     "output_type": "display_data"
    }
   ],
   "source": [
    "# what's the distribution of the duration of the days between application_date and first_batch_completed_date\n",
    "import seaborn as sns\n",
    "duration = df_transpose['first_batch_completed_date'] - df_transpose['application_date']\n",
    "sns.distplot(duration[duration.notna()].dt.days, hist_kws={'cumulative':'True'}, kde_kws={'cumulative':'True'})"
   ]
  },
  {
   "cell_type": "code",
   "execution_count": 16,
   "id": "d11024b1-1f3f-4ba3-9301-21516f00e9ef",
   "metadata": {},
   "outputs": [
    {
     "data": {
      "image/png": "[encoded data removed]",
      "text/plain": [
       "<Figure size 432x288 with 1 Axes>"
      ]
     },
     "metadata": {
      "needs_background": "light"
     },
     "output_type": "display_data"
    }
   ],
   "source": [
    "# Plot Histogram on the duration from the application date to the first batch completion date\n",
    "import matplotlib.pyplot as plt\n",
    "x = duration[duration.notna()].dt.days\n",
    "plt.hist(x, bins=50)\n",
    "plt.gca().set(title='Duration distribution from application to first batch completion', xlabel = '# Days', ylabel='# Applicants');"
   ]
  },
  {
   "cell_type": "code",
   "execution_count": 42,
   "id": "3ce7b823-c5b8-43e5-9fab-75c1b6a5e94d",
   "metadata": {},
   "outputs": [
    {
     "data": {
      "image/png": "[encoded data removed]",
      "text/plain": [
       "<Figure size 432x288 with 1 Axes>"
      ]
     },
     "metadata": {
      "needs_background": "light"
     },
     "output_type": "display_data"
    }
   ],
   "source": [
    "# Plot Histogram on the duration of the background check\n",
    "import matplotlib.pyplot as plt\n",
    "background_duration = df_transpose['background_check_completed_date'] - df_transpose['background_check_initiated_date']\n",
    "x = background_duration[background_duration.notna()].dt.days\n",
    "plt.hist(x, bins=20)\n",
    "plt.gca().set(title='Duration distribution of background check', xlabel = '# Days', ylabel='# Applicants');"
   ]
  },
  {
   "cell_type": "markdown",
   "id": "5a01c893-e029-47b7-9fc2-5aebadb7c8b1",
   "metadata": {},
   "source": [
    "## Sample Size"
   ]
  },
  {
   "cell_type": "code",
   "execution_count": 18,
   "id": "958e6748-af1b-4540-a724-ed956e7670da",
   "metadata": {},
   "outputs": [
    {
     "data": {
      "text/html": [
       "<div>\n",
       "<style scoped>\n",
       "    .dataframe tbody tr th:only-of-type {\n",
       "        vertical-align: middle;\n",
       "    }\n",
       "\n",
       "    .dataframe tbody tr th {\n",
       "        vertical-align: top;\n",
       "    }\n",
       "\n",
       "    .dataframe thead th {\n",
       "        text-align: right;\n",
       "    }\n",
       "</style>\n",
       "<table border=\"1\" class=\"dataframe\">\n",
       "  <thead>\n",
       "    <tr style=\"text-align: right;\">\n",
       "      <th></th>\n",
       "      <th>qualified_applicant_id</th>\n",
       "    </tr>\n",
       "  </thead>\n",
       "  <tbody>\n",
       "    <tr>\n",
       "      <th>0</th>\n",
       "      <td>10001</td>\n",
       "    </tr>\n",
       "    <tr>\n",
       "      <th>1</th>\n",
       "      <td>10002</td>\n",
       "    </tr>\n",
       "    <tr>\n",
       "      <th>2</th>\n",
       "      <td>10003</td>\n",
       "    </tr>\n",
       "    <tr>\n",
       "      <th>3</th>\n",
       "      <td>10004</td>\n",
       "    </tr>\n",
       "    <tr>\n",
       "      <th>4</th>\n",
       "      <td>10005</td>\n",
       "    </tr>\n",
       "    <tr>\n",
       "      <th>...</th>\n",
       "      <td>...</td>\n",
       "    </tr>\n",
       "    <tr>\n",
       "      <th>14977</th>\n",
       "      <td>24978</td>\n",
       "    </tr>\n",
       "    <tr>\n",
       "      <th>14978</th>\n",
       "      <td>24979</td>\n",
       "    </tr>\n",
       "    <tr>\n",
       "      <th>14979</th>\n",
       "      <td>24980</td>\n",
       "    </tr>\n",
       "    <tr>\n",
       "      <th>14980</th>\n",
       "      <td>24981</td>\n",
       "    </tr>\n",
       "    <tr>\n",
       "      <th>14981</th>\n",
       "      <td>24982</td>\n",
       "    </tr>\n",
       "  </tbody>\n",
       "</table>\n",
       "<p>14982 rows × 1 columns</p>\n",
       "</div>"
      ],
      "text/plain": [
       "      qualified_applicant_id\n",
       "0                      10001\n",
       "1                      10002\n",
       "2                      10003\n",
       "3                      10004\n",
       "4                      10005\n",
       "...                      ...\n",
       "14977                  24978\n",
       "14978                  24979\n",
       "14979                  24980\n",
       "14980                  24981\n",
       "14981                  24982\n",
       "\n",
       "[14982 rows x 1 columns]"
      ]
     },
     "execution_count": 18,
     "metadata": {},
     "output_type": "execute_result"
    }
   ],
   "source": [
    "# define the conversion window\n",
    "# application date range from [2018-10-01 00:00:00, 2018-10-31 00:00:00] 80%\n",
    "\n",
    "qualified_applicant_id = pd.DataFrame(df.loc[(df['event'] == 'application_date') & (df['event_date'] <= '2018-10-31'),'applicant_id'].unique())\n",
    "qualified_applicant_id.columns = ['qualified_applicant_id']\n",
    "qualified_applicant_id"
   ]
  },
  {
   "cell_type": "code",
   "execution_count": 19,
   "id": "6a5f332a-150d-4063-9651-7e3c4f2d3468",
   "metadata": {},
   "outputs": [
    {
     "data": {
      "text/html": [
       "<div>\n",
       "<style scoped>\n",
       "    .dataframe tbody tr th:only-of-type {\n",
       "        vertical-align: middle;\n",
       "    }\n",
       "\n",
       "    .dataframe tbody tr th {\n",
       "        vertical-align: top;\n",
       "    }\n",
       "\n",
       "    .dataframe thead th {\n",
       "        text-align: right;\n",
       "    }\n",
       "</style>\n",
       "<table border=\"1\" class=\"dataframe\">\n",
       "  <thead>\n",
       "    <tr style=\"text-align: right;\">\n",
       "      <th></th>\n",
       "      <th>applicant_id</th>\n",
       "      <th>channel</th>\n",
       "      <th>group</th>\n",
       "      <th>city</th>\n",
       "      <th>event</th>\n",
       "      <th>event_date</th>\n",
       "    </tr>\n",
       "  </thead>\n",
       "  <tbody>\n",
       "    <tr>\n",
       "      <th>0</th>\n",
       "      <td>10001</td>\n",
       "      <td>web-search-engine</td>\n",
       "      <td>control</td>\n",
       "      <td>Asgard</td>\n",
       "      <td>application_date</td>\n",
       "      <td>2018-10-01</td>\n",
       "    </tr>\n",
       "    <tr>\n",
       "      <th>1</th>\n",
       "      <td>10001</td>\n",
       "      <td>web-search-engine</td>\n",
       "      <td>control</td>\n",
       "      <td>Asgard</td>\n",
       "      <td>card_mailed_date</td>\n",
       "      <td>2018-10-01</td>\n",
       "    </tr>\n",
       "    <tr>\n",
       "      <th>2</th>\n",
       "      <td>10001</td>\n",
       "      <td>web-search-engine</td>\n",
       "      <td>control</td>\n",
       "      <td>Asgard</td>\n",
       "      <td>orientation_completed_date</td>\n",
       "      <td>2018-10-03</td>\n",
       "    </tr>\n",
       "    <tr>\n",
       "      <th>3</th>\n",
       "      <td>10002</td>\n",
       "      <td>social-media</td>\n",
       "      <td>control</td>\n",
       "      <td>Midgard</td>\n",
       "      <td>application_date</td>\n",
       "      <td>2018-10-01</td>\n",
       "    </tr>\n",
       "    <tr>\n",
       "      <th>4</th>\n",
       "      <td>10002</td>\n",
       "      <td>social-media</td>\n",
       "      <td>control</td>\n",
       "      <td>Midgard</td>\n",
       "      <td>card_mailed_date</td>\n",
       "      <td>2018-10-01</td>\n",
       "    </tr>\n",
       "  </tbody>\n",
       "</table>\n",
       "</div>"
      ],
      "text/plain": [
       "  applicant_id            channel    group     city  \\\n",
       "0        10001  web-search-engine  control   Asgard   \n",
       "1        10001  web-search-engine  control   Asgard   \n",
       "2        10001  web-search-engine  control   Asgard   \n",
       "3        10002       social-media  control  Midgard   \n",
       "4        10002       social-media  control  Midgard   \n",
       "\n",
       "                        event event_date  \n",
       "0            application_date 2018-10-01  \n",
       "1            card_mailed_date 2018-10-01  \n",
       "2  orientation_completed_date 2018-10-03  \n",
       "3            application_date 2018-10-01  \n",
       "4            card_mailed_date 2018-10-01  "
      ]
     },
     "execution_count": 19,
     "metadata": {},
     "output_type": "execute_result"
    }
   ],
   "source": [
    "# filter out unqualified applicants\n",
    "df = df.merge(qualified_applicant_id, left_on='applicant_id', right_on='qualified_applicant_id', how='inner').reset_index(drop=True)\n",
    "df = df[['applicant_id','channel','group','city','event','event_date']]\n",
    "df.head()"
   ]
  },
  {
   "cell_type": "code",
   "execution_count": 20,
   "id": "60e802a3-7a13-4c27-9922-1fc634a2ddd2",
   "metadata": {},
   "outputs": [
    {
     "name": "stdout",
     "output_type": "stream",
     "text": [
      "group    event                          \n",
      "control  application_date                   10024\n",
      "         card_mailed_date                   10024\n",
      "         background_check_initiated_date     8582\n",
      "         card_activation_date                8582\n",
      "         background_check_completed_date     8465\n",
      "         orientation_completed_date          4370\n",
      "         first_batch_completed_date          2678\n",
      "Name: applicant_id, dtype: int64\n",
      "group      event                          \n",
      "treatment  application_date                   4958\n",
      "           background_check_completed_date    4958\n",
      "           background_check_initiated_date    4958\n",
      "           card_mailed_date                   4958\n",
      "           card_activation_date               4658\n",
      "           orientation_completed_date         2545\n",
      "           first_batch_completed_date         2115\n",
      "Name: applicant_id, dtype: int64\n"
     ]
    }
   ],
   "source": [
    "# check conversion funnel\n",
    "print(df[df['group'] == 'control'].groupby(['group','event']).applicant_id.nunique().sort_values(ascending=False))\n",
    "print(df[df['group'] == 'treatment'].groupby(['group','event']).applicant_id.nunique().sort_values(ascending=False))"
   ]
  },
  {
   "cell_type": "code",
   "execution_count": 21,
   "id": "5466f33e-4a39-4a17-abe0-71d26c09cd94",
   "metadata": {},
   "outputs": [
    {
     "name": "stdout",
     "output_type": "stream",
     "text": [
      "event\n",
      "application_date                   14982\n",
      "card_mailed_date                   14982\n",
      "background_check_initiated_date    13540\n",
      "background_check_completed_date    13423\n",
      "card_activation_date               13240\n",
      "orientation_completed_date          6915\n",
      "first_batch_completed_date          4793\n",
      "Name: applicant_id, dtype: int64\n"
     ]
    }
   ],
   "source": [
    "# check overall conversion funnel by event\n",
    "print(df.groupby(['event']).applicant_id.nunique().sort_values(ascending=False))"
   ]
  },
  {
   "cell_type": "code",
   "execution_count": 22,
   "id": "c33e3ee5-a5b6-48ab-8f0c-52b5809b3798",
   "metadata": {},
   "outputs": [
    {
     "name": "stdout",
     "output_type": "stream",
     "text": [
      "channel\n",
      "web-search-engine         5939\n",
      "social-media              4427\n",
      "job-search-site           2625\n",
      "shopper-referral-bonus    1991\n",
      "Name: applicant_id, dtype: int64\n"
     ]
    }
   ],
   "source": [
    "# check channel distribution\n",
    "print(df.groupby(['channel']).applicant_id.nunique().sort_values(ascending=False))"
   ]
  },
  {
   "cell_type": "code",
   "execution_count": 23,
   "id": "33ea4196-f472-40c8-b87f-393e6a5106c9",
   "metadata": {},
   "outputs": [
    {
     "name": "stdout",
     "output_type": "stream",
     "text": [
      "city\n",
      "Midgard         6892\n",
      "Asgard          4735\n",
      "Alfheim         1266\n",
      "Vanaheim         983\n",
      "Niflheim         565\n",
      "Jotunheim        221\n",
      "Muspelheim       112\n",
      "Helheim          106\n",
      "Svartalfheim     102\n",
      "Name: applicant_id, dtype: int64\n"
     ]
    }
   ],
   "source": [
    "# check city distribution\n",
    "print(df.groupby(['city']).applicant_id.nunique().sort_values(ascending=False))"
   ]
  },
  {
   "cell_type": "markdown",
   "id": "865c304b-e734-473c-a119-46cc89f997da",
   "metadata": {},
   "source": [
    "## Checking the invariate metrics"
   ]
  },
  {
   "cell_type": "markdown",
   "id": "4e37e0a6-6f68-4392-bbc3-296896e99ee8",
   "metadata": {},
   "source": [
    "### Sample size (function)"
   ]
  },
  {
   "cell_type": "code",
   "execution_count": 24,
   "id": "3b16d9fd-dadf-42af-96bb-bd9dfed12bf1",
   "metadata": {},
   "outputs": [
    {
     "name": "stdout",
     "output_type": "stream",
     "text": [
      "confidence interval lower bounds:  0.4919935281817871\n",
      "confidence interval upper bounds:  0.5080064718182129\n",
      "control proportion:  0.6690695501268189\n"
     ]
    }
   ],
   "source": [
    "# sanity check --> sample size\n",
    "# define invariate check function\n",
    "# assume p_pool is 0.5 because it gives the largest p(1-p) value\n",
    "\n",
    "def invariant_check (test_sample_size, control_sample_size, p_pool, z_score):\n",
    "    import numpy as np\n",
    "    p_pool_sd = np.sqrt(p_pool * (1-p_pool) / (test_sample_size + control_sample_size))\n",
    "    margin_error = z_score * p_pool_sd\n",
    "    control_prop = control_sample_size / (control_sample_size + test_sample_size)\n",
    "    confidence_interval_lower = p_pool - margin_error\n",
    "    confidence_interval_upper = p_pool + margin_error\n",
    "    return confidence_interval_lower, confidence_interval_upper, control_prop\n",
    "\n",
    "test_sample = df.groupby('group').agg({'applicant_id':'nunique'}).loc['treatment','applicant_id']\n",
    "control_sample = df.groupby('group').agg({'applicant_id':'nunique'}).loc['control','applicant_id']\n",
    "lower, upper, control_prop = invariant_check(test_sample, control_sample, 0.5, 1.96)\n",
    "\n",
    "print('confidence interval lower bounds: ', lower)\n",
    "print('confidence interval upper bounds: ', upper)\n",
    "print('control proportion: ', control_prop)"
   ]
  },
  {
   "cell_type": "code",
   "execution_count": 25,
   "id": "11af116f-421f-4686-9e9f-20be4b5e4a08",
   "metadata": {},
   "outputs": [],
   "source": [
    "#if (control_prop >= lower) and (control_prop <= upper):\n",
    "#    print ('Pass')\n",
    "#else:\n",
    "#    print ('Fail')"
   ]
  },
  {
   "cell_type": "markdown",
   "id": "72f9d76e-1c1e-4456-9ebe-be23b75c538a",
   "metadata": {},
   "source": [
    "## Checking the evaluation metric"
   ]
  },
  {
   "cell_type": "code",
   "execution_count": 26,
   "id": "1c1c803c-94f6-45d3-81fa-c503e33ae024",
   "metadata": {},
   "outputs": [
    {
     "name": "stdout",
     "output_type": "stream",
     "text": [
      "z score is 19.685398121466985 > 1.65, so we can reject null hypothesis, and accept alternative hypothesis\n"
     ]
    }
   ],
   "source": [
    "import scipy.stats as stats\n",
    "\n",
    "# choose metric\n",
    "# conversion rate = complete first batch / total application\n",
    "# calculate z score\n",
    "\n",
    "# define z_score function\n",
    "def z_score_pool(test_success, control_success, test_sample_size, control_sample_size):\n",
    "    import numpy as np\n",
    "    distance = test_success/test_sample_size - control_success/control_sample_size\n",
    "    p_pool = (test_success+control_success)/(test_sample_size+control_sample_size)\n",
    "    p_pool_sd = np.sqrt(p_pool*(1-p_pool)*(1/test_sample_size+1/control_sample_size))\n",
    "    z_score = (distance-0)/p_pool_sd\n",
    "    return z_score\n",
    "\n",
    "test_complete = 2115\n",
    "control_complete = 2678\n",
    "test_sample_size = 4958\n",
    "control_sample_size = 10024\n",
    "alpha = 0.05\n",
    "\n",
    "z = z_score_pool(test_complete, control_complete, test_sample_size, control_sample_size)\n",
    "print ( 'z score is %s > 1.65, so we can reject null hypothesis, and accept alternative hypothesis' %z )"
   ]
  },
  {
   "cell_type": "code",
   "execution_count": 27,
   "id": "bc9cb8e1-0ef7-4a8c-8c78-e66d97a547ce",
   "metadata": {},
   "outputs": [
    {
     "data": {
      "text/html": [
       "<div>\n",
       "<style scoped>\n",
       "    .dataframe tbody tr th:only-of-type {\n",
       "        vertical-align: middle;\n",
       "    }\n",
       "\n",
       "    .dataframe tbody tr th {\n",
       "        vertical-align: top;\n",
       "    }\n",
       "\n",
       "    .dataframe thead th {\n",
       "        text-align: right;\n",
       "    }\n",
       "</style>\n",
       "<table border=\"1\" class=\"dataframe\">\n",
       "  <thead>\n",
       "    <tr style=\"text-align: right;\">\n",
       "      <th></th>\n",
       "      <th>duration1</th>\n",
       "    </tr>\n",
       "    <tr>\n",
       "      <th>group</th>\n",
       "      <th></th>\n",
       "    </tr>\n",
       "  </thead>\n",
       "  <tbody>\n",
       "    <tr>\n",
       "      <th>control</th>\n",
       "      <td>10.176251</td>\n",
       "    </tr>\n",
       "    <tr>\n",
       "      <th>treatment</th>\n",
       "      <td>7.076123</td>\n",
       "    </tr>\n",
       "  </tbody>\n",
       "</table>\n",
       "</div>"
      ],
      "text/plain": [
       "           duration1\n",
       "group               \n",
       "control    10.176251\n",
       "treatment   7.076123"
      ]
     },
     "execution_count": 27,
     "metadata": {},
     "output_type": "execute_result"
    }
   ],
   "source": [
    "# calculate the duration from the application date to the first batch completed\n",
    "\n",
    "df_transpose = df.pivot_table(index=['group','channel','applicant_id'], columns='event', values='event_date', aggfunc='max')\n",
    "df_transpose['duration1'] = (df_transpose['first_batch_completed_date'] - df_transpose['application_date']).dt.days\n",
    "df_transpose = df_transpose.reset_index()\n",
    "df_transpose\n",
    "\n",
    "# days from the application to the first batch completed\n",
    "df_transpose.groupby(['group']).agg({'duration1':'mean'})"
   ]
  },
  {
   "cell_type": "code",
   "execution_count": 28,
   "id": "80d5f234-2d63-4613-a423-7cb1e8c88870",
   "metadata": {},
   "outputs": [
    {
     "data": {
      "text/html": [
       "<div>\n",
       "<style scoped>\n",
       "    .dataframe tbody tr th:only-of-type {\n",
       "        vertical-align: middle;\n",
       "    }\n",
       "\n",
       "    .dataframe tbody tr th {\n",
       "        vertical-align: top;\n",
       "    }\n",
       "\n",
       "    .dataframe thead th {\n",
       "        text-align: right;\n",
       "    }\n",
       "</style>\n",
       "<table border=\"1\" class=\"dataframe\">\n",
       "  <thead>\n",
       "    <tr style=\"text-align: right;\">\n",
       "      <th></th>\n",
       "      <th></th>\n",
       "      <th>duration1</th>\n",
       "    </tr>\n",
       "    <tr>\n",
       "      <th>group</th>\n",
       "      <th>channel</th>\n",
       "      <th></th>\n",
       "    </tr>\n",
       "  </thead>\n",
       "  <tbody>\n",
       "    <tr>\n",
       "      <th rowspan=\"4\" valign=\"top\">control</th>\n",
       "      <th>job-search-site</th>\n",
       "      <td>9.505376</td>\n",
       "    </tr>\n",
       "    <tr>\n",
       "      <th>shopper-referral-bonus</th>\n",
       "      <td>9.465324</td>\n",
       "    </tr>\n",
       "    <tr>\n",
       "      <th>social-media</th>\n",
       "      <td>11.250522</td>\n",
       "    </tr>\n",
       "    <tr>\n",
       "      <th>web-search-engine</th>\n",
       "      <td>9.648893</td>\n",
       "    </tr>\n",
       "    <tr>\n",
       "      <th rowspan=\"4\" valign=\"top\">treatment</th>\n",
       "      <th>job-search-site</th>\n",
       "      <td>6.317901</td>\n",
       "    </tr>\n",
       "    <tr>\n",
       "      <th>shopper-referral-bonus</th>\n",
       "      <td>6.927492</td>\n",
       "    </tr>\n",
       "    <tr>\n",
       "      <th>social-media</th>\n",
       "      <td>7.992780</td>\n",
       "    </tr>\n",
       "    <tr>\n",
       "      <th>web-search-engine</th>\n",
       "      <td>6.841060</td>\n",
       "    </tr>\n",
       "  </tbody>\n",
       "</table>\n",
       "</div>"
      ],
      "text/plain": [
       "                                  duration1\n",
       "group     channel                          \n",
       "control   job-search-site          9.505376\n",
       "          shopper-referral-bonus   9.465324\n",
       "          social-media            11.250522\n",
       "          web-search-engine        9.648893\n",
       "treatment job-search-site          6.317901\n",
       "          shopper-referral-bonus   6.927492\n",
       "          social-media             7.992780\n",
       "          web-search-engine        6.841060"
      ]
     },
     "execution_count": 28,
     "metadata": {},
     "output_type": "execute_result"
    }
   ],
   "source": [
    "# days from the application to the first batch completed by channel\n",
    "df_transpose.groupby(['group','channel']).agg({'duration1':'mean'})"
   ]
  },
  {
   "cell_type": "code",
   "execution_count": 29,
   "id": "6749d137-e604-476e-9832-fefc13aed5c9",
   "metadata": {},
   "outputs": [
    {
     "data": {
      "text/plain": [
       "duration2    1.95295\n",
       "Name: control, dtype: float64"
      ]
     },
     "execution_count": 29,
     "metadata": {},
     "output_type": "execute_result"
    }
   ],
   "source": [
    "# for the control group, duration from the application date to completing both the card activation and the background check \n",
    "\n",
    "df_transpose['duration2'] = (df_transpose['first_batch_completed_date'] - df_transpose['background_check_completed_date']).dt.days\n",
    "df_transpose.groupby('group').agg({'duration2':'mean'}).loc['control']"
   ]
  },
  {
   "cell_type": "code",
   "execution_count": 30,
   "id": "af27c583-2848-4388-8221-2e2c6e8297c4",
   "metadata": {},
   "outputs": [
    {
     "data": {
      "text/html": [
       "<div>\n",
       "<style scoped>\n",
       "    .dataframe tbody tr th:only-of-type {\n",
       "        vertical-align: middle;\n",
       "    }\n",
       "\n",
       "    .dataframe tbody tr th {\n",
       "        vertical-align: top;\n",
       "    }\n",
       "\n",
       "    .dataframe thead th {\n",
       "        text-align: right;\n",
       "    }\n",
       "</style>\n",
       "<table border=\"1\" class=\"dataframe\">\n",
       "  <thead>\n",
       "    <tr style=\"text-align: right;\">\n",
       "      <th></th>\n",
       "      <th>duration2</th>\n",
       "    </tr>\n",
       "    <tr>\n",
       "      <th>channel</th>\n",
       "      <th></th>\n",
       "    </tr>\n",
       "  </thead>\n",
       "  <tbody>\n",
       "    <tr>\n",
       "      <th>job-search-site</th>\n",
       "      <td>2.086022</td>\n",
       "    </tr>\n",
       "    <tr>\n",
       "      <th>shopper-referral-bonus</th>\n",
       "      <td>1.816555</td>\n",
       "    </tr>\n",
       "    <tr>\n",
       "      <th>social-media</th>\n",
       "      <td>1.983299</td>\n",
       "    </tr>\n",
       "    <tr>\n",
       "      <th>web-search-engine</th>\n",
       "      <td>1.947686</td>\n",
       "    </tr>\n",
       "  </tbody>\n",
       "</table>\n",
       "</div>"
      ],
      "text/plain": [
       "                        duration2\n",
       "channel                          \n",
       "job-search-site          2.086022\n",
       "shopper-referral-bonus   1.816555\n",
       "social-media             1.983299\n",
       "web-search-engine        1.947686"
      ]
     },
     "execution_count": 30,
     "metadata": {},
     "output_type": "execute_result"
    }
   ],
   "source": [
    "# for the control group, duration from the application date to completing both the card activation and the background check by channel\n",
    "\n",
    "df_transpose['duration2'] = (df_transpose['first_batch_completed_date'] - df_transpose['background_check_completed_date']).dt.days\n",
    "df_transpose.groupby(['group','channel']).agg({'duration2':'mean'}).loc['control']"
   ]
  },
  {
   "cell_type": "code",
   "execution_count": 31,
   "id": "72e9e242-8ddf-4298-b549-eda2117200ac",
   "metadata": {},
   "outputs": [
    {
     "data": {
      "text/plain": [
       "duration3    2.54279\n",
       "Name: treatment, dtype: float64"
      ]
     },
     "execution_count": 31,
     "metadata": {},
     "output_type": "execute_result"
    }
   ],
   "source": [
    "# for the test group, duration from the application date to completing both the card activation and the background check \n",
    "\n",
    "df_transpose['duration3'] = (df_transpose['first_batch_completed_date'] - df_transpose['card_activation_date']).dt.days\n",
    "df_transpose.groupby('group').agg({'duration3':'mean'}).loc['treatment']"
   ]
  },
  {
   "cell_type": "code",
   "execution_count": 32,
   "id": "4437abf1-a9d6-4c30-9d4c-296af18ad595",
   "metadata": {},
   "outputs": [
    {
     "data": {
      "text/html": [
       "<div>\n",
       "<style scoped>\n",
       "    .dataframe tbody tr th:only-of-type {\n",
       "        vertical-align: middle;\n",
       "    }\n",
       "\n",
       "    .dataframe tbody tr th {\n",
       "        vertical-align: top;\n",
       "    }\n",
       "\n",
       "    .dataframe thead th {\n",
       "        text-align: right;\n",
       "    }\n",
       "</style>\n",
       "<table border=\"1\" class=\"dataframe\">\n",
       "  <thead>\n",
       "    <tr style=\"text-align: right;\">\n",
       "      <th></th>\n",
       "      <th>duration3</th>\n",
       "    </tr>\n",
       "    <tr>\n",
       "      <th>channel</th>\n",
       "      <th></th>\n",
       "    </tr>\n",
       "  </thead>\n",
       "  <tbody>\n",
       "    <tr>\n",
       "      <th>job-search-site</th>\n",
       "      <td>2.364198</td>\n",
       "    </tr>\n",
       "    <tr>\n",
       "      <th>shopper-referral-bonus</th>\n",
       "      <td>2.891239</td>\n",
       "    </tr>\n",
       "    <tr>\n",
       "      <th>social-media</th>\n",
       "      <td>2.460289</td>\n",
       "    </tr>\n",
       "    <tr>\n",
       "      <th>web-search-engine</th>\n",
       "      <td>2.529801</td>\n",
       "    </tr>\n",
       "  </tbody>\n",
       "</table>\n",
       "</div>"
      ],
      "text/plain": [
       "                        duration3\n",
       "channel                          \n",
       "job-search-site          2.364198\n",
       "shopper-referral-bonus   2.891239\n",
       "social-media             2.460289\n",
       "web-search-engine        2.529801"
      ]
     },
     "execution_count": 32,
     "metadata": {},
     "output_type": "execute_result"
    }
   ],
   "source": [
    "# for the test group, duration from the application date to completing both the card activation and the background check by channel\n",
    "\n",
    "df_transpose['duration3'] = (df_transpose['first_batch_completed_date'] - df_transpose['card_activation_date']).dt.days\n",
    "df_transpose.groupby(['group','channel']).agg({'duration3':'mean'}).loc['treatment']"
   ]
  },
  {
   "cell_type": "markdown",
   "id": "d8ee6516-4538-43f1-bbfc-20dfeba2d9f8",
   "metadata": {},
   "source": [
    "## Question 2"
   ]
  },
  {
   "cell_type": "markdown",
   "id": "e95df89d-ae9b-4f70-a34a-28d18cbb3ef2",
   "metadata": {},
   "source": [
    "- the background check costs us $30 to complete\n",
    "- we'd like to know if this change is cost-effective"
   ]
  },
  {
   "cell_type": "code",
   "execution_count": 33,
   "id": "40fcead2-e497-4057-a116-f07dfbf159ef",
   "metadata": {},
   "outputs": [
    {
     "name": "stdout",
     "output_type": "stream",
     "text": [
      "96.13890963405527\n",
      "70.32624113475177\n"
     ]
    }
   ],
   "source": [
    "cost = 30\n",
    "\n",
    "# formula per success\n",
    "\n",
    "control = (30*8582)/2678\n",
    "test = (30*4958)/2115\n",
    "print(control)\n",
    "print(test)"
   ]
  },
  {
   "cell_type": "code",
   "execution_count": 34,
   "id": "2f7f190b-7569-4775-8d6a-d0a6358b851c",
   "metadata": {},
   "outputs": [
    {
     "name": "stdout",
     "output_type": "stream",
     "text": [
      "group    channel                 event                          \n",
      "control  job-search-site         application_date                   1765\n",
      "                                 background_check_completed_date    1181\n",
      "                                 background_check_initiated_date    1183\n",
      "                                 card_activation_date               1183\n",
      "                                 card_mailed_date                   1765\n",
      "                                 first_batch_completed_date          279\n",
      "                                 orientation_completed_date          864\n",
      "         shopper-referral-bonus  application_date                   1332\n",
      "                                 background_check_completed_date    1260\n",
      "                                 background_check_initiated_date    1279\n",
      "                                 card_activation_date               1279\n",
      "                                 card_mailed_date                   1332\n",
      "                                 first_batch_completed_date          447\n",
      "                                 orientation_completed_date         1101\n",
      "         social-media            application_date                   2998\n",
      "                                 background_check_completed_date    2804\n",
      "                                 background_check_initiated_date    2868\n",
      "                                 card_activation_date               2868\n",
      "                                 card_mailed_date                   2998\n",
      "                                 first_batch_completed_date          958\n",
      "                                 orientation_completed_date          511\n",
      "         web-search-engine       application_date                   3929\n",
      "                                 background_check_completed_date    3220\n",
      "                                 background_check_initiated_date    3252\n",
      "                                 card_activation_date               3252\n",
      "                                 card_mailed_date                   3929\n",
      "                                 first_batch_completed_date          994\n",
      "                                 orientation_completed_date         1894\n",
      "Name: applicant_id, dtype: int64\n",
      "job search site card activation rate:  0.6702549575070822\n",
      "shopper referral bonus card activation rate:  0.9602102102102102\n",
      "social media card activation rate:  0.9566377585056705\n",
      "web search engine card activation rate:  0.827691524560957\n",
      "job search site orientation rate:  0.48951841359773374\n",
      "shopper referral bonus orientation rate:  0.8265765765765766\n",
      "social media orientation rate:  0.1704469646430954\n",
      "web search engine orientation rate:  0.4820565029269534\n"
     ]
    }
   ],
   "source": [
    "# calculating card activation rate and orientation rate for control group\n",
    "print(df[df['group'] == 'control'].groupby(['group','channel','event']).applicant_id.nunique())\n",
    "job_search_site_activation_rate_control = 1183/1765\n",
    "shopper_referral_bonus_activation_rate_control = 1279/1332\n",
    "social_media_activation_rate_control = 2868/2998\n",
    "web_search_engine_activation_rate_control = 3252/3929\n",
    "\n",
    "print('job search site card activation rate: ', job_search_site_activation_rate_control)\n",
    "print('shopper referral bonus card activation rate: ', shopper_referral_bonus_activation_rate_control)\n",
    "print('social media card activation rate: ', social_media_activation_rate_control)\n",
    "print('web search engine card activation rate: ', web_search_engine_activation_rate_control)\n",
    "\n",
    "job_search_site_orientation_rate_control = 864/1765\n",
    "shopper_referral_bonus_orientation_rate_control = 1101/1332\n",
    "social_media_orientation_rate_control = 511/2998\n",
    "web_search_engine_orientation_rate_control = 1894/3929\n",
    "\n",
    "print('job search site orientation rate: ', job_search_site_orientation_rate_control)\n",
    "print('shopper referral bonus orientation rate: ', shopper_referral_bonus_orientation_rate_control)\n",
    "print('social media orientation rate: ', social_media_orientation_rate_control)\n",
    "print('web search engine orientation rate: ', web_search_engine_orientation_rate_control)"
   ]
  },
  {
   "cell_type": "code",
   "execution_count": 35,
   "id": "d334da85-2c8f-47d5-9b6d-e1025d507f14",
   "metadata": {},
   "outputs": [
    {
     "name": "stdout",
     "output_type": "stream",
     "text": [
      "group      channel                 event                          \n",
      "treatment  job-search-site         application_date                    860\n",
      "                                   background_check_completed_date     860\n",
      "                                   background_check_initiated_date     860\n",
      "                                   card_activation_date                747\n",
      "                                   card_mailed_date                    860\n",
      "                                   first_batch_completed_date          324\n",
      "                                   orientation_completed_date          509\n",
      "           shopper-referral-bonus  application_date                    659\n",
      "                                   background_check_completed_date     659\n",
      "                                   background_check_initiated_date     659\n",
      "                                   card_activation_date                636\n",
      "                                   card_mailed_date                    659\n",
      "                                   first_batch_completed_date          331\n",
      "                                   orientation_completed_date          540\n",
      "           social-media            application_date                   1429\n",
      "                                   background_check_completed_date    1429\n",
      "                                   background_check_initiated_date    1429\n",
      "                                   card_activation_date               1394\n",
      "                                   card_mailed_date                   1429\n",
      "                                   first_batch_completed_date          554\n",
      "                                   orientation_completed_date          286\n",
      "           web-search-engine       application_date                   2010\n",
      "                                   background_check_completed_date    2010\n",
      "                                   background_check_initiated_date    2010\n",
      "                                   card_activation_date               1881\n",
      "                                   card_mailed_date                   2010\n",
      "                                   first_batch_completed_date          906\n",
      "                                   orientation_completed_date         1210\n",
      "Name: applicant_id, dtype: int64\n",
      "job search site card activation rate:  0.8686046511627907\n",
      "shopper referral bonus card activation rate:  0.9650986342943855\n",
      "social media card activation rate:  0.9755073477956613\n",
      "web search engine card activation rate:  0.935820895522388\n",
      "job search site orientation rate:  0.5918604651162791\n",
      "shopper referral bonus orientation rate:  0.8194233687405159\n",
      "social media orientation rate:  0.2001399580125962\n",
      "web search engine orientation rate:  0.6019900497512438\n"
     ]
    }
   ],
   "source": [
    "# calculating card activation rate and orientation rate for test group\n",
    "print(df[df['group'] == 'treatment'].groupby(['group','channel','event']).applicant_id.nunique())\n",
    "job_search_site_activation_rate_test = 747/860\n",
    "shopper_referral_bonus_activation_rate_test = 636/659\n",
    "social_media_activation_rate_test = 1394/1429\n",
    "web_search_engine_activation_rate_test = 1881/2010\n",
    "\n",
    "print('job search site card activation rate: ', job_search_site_activation_rate_test)\n",
    "print('shopper referral bonus card activation rate: ', shopper_referral_bonus_activation_rate_test)\n",
    "print('social media card activation rate: ', social_media_activation_rate_test)\n",
    "print('web search engine card activation rate: ', web_search_engine_activation_rate_test)\n",
    "\n",
    "job_search_site_orientation_rate_test = 509/860\n",
    "shopper_referral_bonus_orientation_rate_test = 540/659\n",
    "social_media_orientation_rate_test = 286/1429\n",
    "web_search_engine_orientation_rate_test = 1210/2010\n",
    "\n",
    "print('job search site orientation rate: ', job_search_site_orientation_rate_test)\n",
    "print('shopper referral bonus orientation rate: ', shopper_referral_bonus_orientation_rate_test)\n",
    "print('social media orientation rate: ', social_media_orientation_rate_test)\n",
    "print('web search engine orientation rate: ', web_search_engine_orientation_rate_test)"
   ]
  },
  {
   "cell_type": "code",
   "execution_count": 36,
   "id": "2146a23a-53e1-41f4-a464-a748dec06dbc",
   "metadata": {},
   "outputs": [
    {
     "data": {
      "text/plain": [
       "10.81052316208037"
      ]
     },
     "execution_count": 36,
     "metadata": {},
     "output_type": "execute_result"
    }
   ],
   "source": [
    "# calculating z-score for the significance of the card activation rate increase\n",
    "import numpy as np\n",
    "\n",
    "job_search_site_d = 0.8686046511627907-0.6702549575070822\n",
    "job_search_site_p_pool = (747+1183)/(860+1765)\n",
    "job_search_site_z_score = (job_search_site_d-0)/np.sqrt(job_search_site_p_pool*(1-job_search_site_p_pool)*(1/860+1/1765))\n",
    "job_search_site_z_score"
   ]
  },
  {
   "cell_type": "code",
   "execution_count": 37,
   "id": "175ccfd8-71ed-4438-972d-547c7d95555c",
   "metadata": {},
   "outputs": [
    {
     "data": {
      "text/plain": [
       "0.5356833396499161"
      ]
     },
     "execution_count": 37,
     "metadata": {},
     "output_type": "execute_result"
    }
   ],
   "source": [
    "shopper_referral_bonus_d = 0.9650986342943855-0.9602102102102102\n",
    "shopper_referral_bonus_p_pool = (636+1279)/(659+1332)\n",
    "shopper_referral_bonus_z_score = (shopper_referral_bonus_d-0)/np.sqrt(shopper_referral_bonus_p_pool*(1-shopper_referral_bonus_p_pool)*(1/659+1/1332))\n",
    "shopper_referral_bonus_z_score"
   ]
  },
  {
   "cell_type": "code",
   "execution_count": 38,
   "id": "1a62f16c-73ce-47c0-97a2-1dadd24d099f",
   "metadata": {},
   "outputs": [
    {
     "data": {
      "text/plain": [
       "3.098849198588652"
      ]
     },
     "execution_count": 38,
     "metadata": {},
     "output_type": "execute_result"
    }
   ],
   "source": [
    "social_media_d = 0.9755073477956613-0.9566377585056705\n",
    "social_media_p_pool = (1394+2868)/(1429+2998)\n",
    "social_media_z_score = (social_media_d-0)/np.sqrt(social_media_p_pool*(1-social_media_p_pool)*(1/1429+1/2998))\n",
    "social_media_z_score"
   ]
  },
  {
   "cell_type": "code",
   "execution_count": 39,
   "id": "0f7863fd-b7e3-4f11-9d00-cfe97af73ef5",
   "metadata": {},
   "outputs": [
    {
     "data": {
      "text/plain": [
       "11.51293967915745"
      ]
     },
     "execution_count": 39,
     "metadata": {},
     "output_type": "execute_result"
    }
   ],
   "source": [
    "web_search_engine_d = 0.935820895522388-0.827691524560957\n",
    "web_search_engine_p_pool = (3252+1881)/(3929+2010)\n",
    "web_search_engine_z_score = (web_search_engine_d-0)/np.sqrt(web_search_engine_p_pool*(1-web_search_engine_p_pool)*(1/3929+1/2010))\n",
    "web_search_engine_z_score"
   ]
  },
  {
   "cell_type": "markdown",
   "id": "a372c8ee-8239-4d23-ac63-c2a04d81c01b",
   "metadata": {},
   "source": [
    "## Question 3"
   ]
  },
  {
   "cell_type": "code",
   "execution_count": 40,
   "id": "bd6f6bf8-0458-45b2-bf26-3d65ceb8862f",
   "metadata": {},
   "outputs": [
    {
     "data": {
      "text/html": [
       "<div>\n",
       "<style scoped>\n",
       "    .dataframe tbody tr th:only-of-type {\n",
       "        vertical-align: middle;\n",
       "    }\n",
       "\n",
       "    .dataframe tbody tr th {\n",
       "        vertical-align: top;\n",
       "    }\n",
       "\n",
       "    .dataframe thead th {\n",
       "        text-align: right;\n",
       "    }\n",
       "</style>\n",
       "<table border=\"1\" class=\"dataframe\">\n",
       "  <thead>\n",
       "    <tr style=\"text-align: right;\">\n",
       "      <th></th>\n",
       "      <th>application_date</th>\n",
       "      <th>first_batch_completed_date</th>\n",
       "      <th>cvr</th>\n",
       "    </tr>\n",
       "    <tr>\n",
       "      <th>channel</th>\n",
       "      <th></th>\n",
       "      <th></th>\n",
       "      <th></th>\n",
       "    </tr>\n",
       "  </thead>\n",
       "  <tbody>\n",
       "    <tr>\n",
       "      <th>job-search-site</th>\n",
       "      <td>2625</td>\n",
       "      <td>603</td>\n",
       "      <td>0.229714</td>\n",
       "    </tr>\n",
       "    <tr>\n",
       "      <th>shopper-referral-bonus</th>\n",
       "      <td>1991</td>\n",
       "      <td>778</td>\n",
       "      <td>0.390758</td>\n",
       "    </tr>\n",
       "    <tr>\n",
       "      <th>social-media</th>\n",
       "      <td>4427</td>\n",
       "      <td>1512</td>\n",
       "      <td>0.341541</td>\n",
       "    </tr>\n",
       "    <tr>\n",
       "      <th>web-search-engine</th>\n",
       "      <td>5939</td>\n",
       "      <td>1900</td>\n",
       "      <td>0.319919</td>\n",
       "    </tr>\n",
       "  </tbody>\n",
       "</table>\n",
       "</div>"
      ],
      "text/plain": [
       "                        application_date  first_batch_completed_date       cvr\n",
       "channel                                                                       \n",
       "job-search-site                     2625                         603  0.229714\n",
       "shopper-referral-bonus              1991                         778  0.390758\n",
       "social-media                        4427                        1512  0.341541\n",
       "web-search-engine                   5939                        1900  0.319919"
      ]
     },
     "execution_count": 40,
     "metadata": {},
     "output_type": "execute_result"
    }
   ],
   "source": [
    "# calculate channel conversion rate\n",
    "\n",
    "channel_cvr = df_transpose.groupby('channel').agg({'application_date':'count', 'first_batch_completed_date':'count'})\n",
    "channel_cvr['cvr'] = channel_cvr['first_batch_completed_date']/channel_cvr['application_date']\n",
    "channel_cvr.head()"
   ]
  },
  {
   "cell_type": "code",
   "execution_count": 41,
   "id": "15f9bf89-ef45-4cd7-92b6-ace078347c3a",
   "metadata": {},
   "outputs": [
    {
     "data": {
      "text/html": [
       "<div>\n",
       "<style scoped>\n",
       "    .dataframe tbody tr th:only-of-type {\n",
       "        vertical-align: middle;\n",
       "    }\n",
       "\n",
       "    .dataframe tbody tr th {\n",
       "        vertical-align: top;\n",
       "    }\n",
       "\n",
       "    .dataframe thead th {\n",
       "        text-align: right;\n",
       "    }\n",
       "</style>\n",
       "<table border=\"1\" class=\"dataframe\">\n",
       "  <thead>\n",
       "    <tr style=\"text-align: right;\">\n",
       "      <th></th>\n",
       "      <th></th>\n",
       "      <th>application_date</th>\n",
       "      <th>first_batch_completed_date</th>\n",
       "      <th>cvr</th>\n",
       "    </tr>\n",
       "    <tr>\n",
       "      <th>group</th>\n",
       "      <th>channel</th>\n",
       "      <th></th>\n",
       "      <th></th>\n",
       "      <th></th>\n",
       "    </tr>\n",
       "  </thead>\n",
       "  <tbody>\n",
       "    <tr>\n",
       "      <th rowspan=\"4\" valign=\"top\">control</th>\n",
       "      <th>job-search-site</th>\n",
       "      <td>1765</td>\n",
       "      <td>279</td>\n",
       "      <td>0.158074</td>\n",
       "    </tr>\n",
       "    <tr>\n",
       "      <th>shopper-referral-bonus</th>\n",
       "      <td>1332</td>\n",
       "      <td>447</td>\n",
       "      <td>0.335586</td>\n",
       "    </tr>\n",
       "    <tr>\n",
       "      <th>social-media</th>\n",
       "      <td>2998</td>\n",
       "      <td>958</td>\n",
       "      <td>0.319546</td>\n",
       "    </tr>\n",
       "    <tr>\n",
       "      <th>web-search-engine</th>\n",
       "      <td>3929</td>\n",
       "      <td>994</td>\n",
       "      <td>0.252991</td>\n",
       "    </tr>\n",
       "    <tr>\n",
       "      <th rowspan=\"4\" valign=\"top\">treatment</th>\n",
       "      <th>job-search-site</th>\n",
       "      <td>860</td>\n",
       "      <td>324</td>\n",
       "      <td>0.376744</td>\n",
       "    </tr>\n",
       "    <tr>\n",
       "      <th>shopper-referral-bonus</th>\n",
       "      <td>659</td>\n",
       "      <td>331</td>\n",
       "      <td>0.502276</td>\n",
       "    </tr>\n",
       "    <tr>\n",
       "      <th>social-media</th>\n",
       "      <td>1429</td>\n",
       "      <td>554</td>\n",
       "      <td>0.387684</td>\n",
       "    </tr>\n",
       "    <tr>\n",
       "      <th>web-search-engine</th>\n",
       "      <td>2010</td>\n",
       "      <td>906</td>\n",
       "      <td>0.450746</td>\n",
       "    </tr>\n",
       "  </tbody>\n",
       "</table>\n",
       "</div>"
      ],
      "text/plain": [
       "                                  application_date  \\\n",
       "group     channel                                    \n",
       "control   job-search-site                     1765   \n",
       "          shopper-referral-bonus              1332   \n",
       "          social-media                        2998   \n",
       "          web-search-engine                   3929   \n",
       "treatment job-search-site                      860   \n",
       "          shopper-referral-bonus               659   \n",
       "          social-media                        1429   \n",
       "          web-search-engine                   2010   \n",
       "\n",
       "                                  first_batch_completed_date       cvr  \n",
       "group     channel                                                       \n",
       "control   job-search-site                                279  0.158074  \n",
       "          shopper-referral-bonus                         447  0.335586  \n",
       "          social-media                                   958  0.319546  \n",
       "          web-search-engine                              994  0.252991  \n",
       "treatment job-search-site                                324  0.376744  \n",
       "          shopper-referral-bonus                         331  0.502276  \n",
       "          social-media                                   554  0.387684  \n",
       "          web-search-engine                              906  0.450746  "
      ]
     },
     "execution_count": 41,
     "metadata": {},
     "output_type": "execute_result"
    }
   ],
   "source": [
    "# calculate channel conversion rate by control and test group\n",
    "\n",
    "channel_cvr_group = df_transpose.groupby(['group','channel']).agg({'application_date':'count', 'first_batch_completed_date':'count'})\n",
    "channel_cvr_group['cvr'] = channel_cvr_group['first_batch_completed_date']/channel_cvr_group['application_date']\n",
    "channel_cvr_group"
   ]
  },
  {
   "cell_type": "code",
   "execution_count": null,
   "id": "bc13536a-00a0-44ca-bc86-94d8c02858e2",
   "metadata": {},
   "outputs": [],
   "source": []
  }
 ],
 "metadata": {
  "kernelspec": {
   "display_name": "Python 3",
   "language": "python",
   "name": "python3"
  },
  "language_info": {
   "codemirror_mode": {
    "name": "ipython",
    "version": 3
   },
   "file_extension": ".py",
   "mimetype": "text/x-python",
   "name": "python",
   "nbconvert_exporter": "python",
   "pygments_lexer": "ipython3",
   "version": "3.8.8"
  }
 },
 "nbformat": 4,
 "nbformat_minor": 5
}
